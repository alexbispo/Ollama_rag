{
 "cells": [
  {
   "cell_type": "code",
   "execution_count": 1,
   "id": "bf1b3c14",
   "metadata": {},
   "outputs": [],
   "source": [
    "import ollama"
   ]
  },
  {
   "cell_type": "code",
   "execution_count": 2,
   "id": "52587f1b",
   "metadata": {},
   "outputs": [],
   "source": [
    "model = \"granite3.3:2b\"\n",
    "options = {\n",
    "    \"temperature\": 0,\n",
    "    \"top-p\": 0.9\n",
    "}"
   ]
  },
  {
   "cell_type": "code",
   "execution_count": 3,
   "id": "8322bbf0",
   "metadata": {},
   "outputs": [],
   "source": [
    "def chat_assistant(question):\n",
    "    messages = [\n",
    "        {\n",
    "            \"role\": \"system\",\n",
    "            \"content\": \"\"\"\n",
    "            Você é um mecânico especialista em carros Hyundai HB20. \n",
    "            Sua tarefa é responder perguntas sobre a operacão, manutenção e especificação dos veículos Hyundai HB20 de forma objetiva e direta.\n",
    "            Forneça respostas curtas e diretas.\n",
    "            Ignore qualquer pergunta não relacionada ao veículos Hyundai HB20, respondendo de forma cordial 'Desculpe não tenho esta informacão'.\n",
    "            Responda cordialmente 'Desculpe não tenho esta informacão' para perguntas que você não sabe a resposta.\n",
    "            \"\"\"\n",
    "        },\n",
    "        {\n",
    "            \"role\": \"user\",\n",
    "            \"content\": question\n",
    "        } \n",
    "    ]\n",
    "\n",
    "    resp = ollama.chat(model=model, messages=messages, options=options)\n",
    "    return resp[\"message\"][\"content\"]"
   ]
  },
  {
   "cell_type": "code",
   "execution_count": 4,
   "id": "232e5515",
   "metadata": {},
   "outputs": [
    {
     "name": "stdout",
     "output_type": "stream",
     "text": [
      "> R: A pressão recomendada de ar dos pneus do Hyundai HB20 é de 32 psi (PSI) para carga normal.\n"
     ]
    }
   ],
   "source": [
    "print(\"> R:\", chat_assistant(\"Qual a pressão em psi para carga normal dos pneus do meu HB20?\"))"
   ]
  },
  {
   "cell_type": "code",
   "execution_count": 5,
   "id": "b48b66ac",
   "metadata": {},
   "outputs": [
    {
     "name": "stdout",
     "output_type": "stream",
     "text": [
      "> R: A Hyundai HB20, desde o modelo 2016 em diante, utiliza uma bateria de íon de lítio para a chave inteligente.\n"
     ]
    }
   ],
   "source": [
    "print(\"> R:\", chat_assistant(\"Qual é tipo de bateria da chave inteligente do meu HB20?\"))"
   ]
  },
  {
   "cell_type": "markdown",
   "id": "a3733917",
   "metadata": {},
   "source": [
    "## RAG - Retrieval-Augmented Generation"
   ]
  },
  {
   "cell_type": "code",
   "execution_count": null,
   "id": "d5bdd7f8",
   "metadata": {},
   "outputs": [],
   "source": []
  }
 ],
 "metadata": {
  "kernelspec": {
   "display_name": ".venv",
   "language": "python",
   "name": "python3"
  },
  "language_info": {
   "codemirror_mode": {
    "name": "ipython",
    "version": 3
   },
   "file_extension": ".py",
   "mimetype": "text/x-python",
   "name": "python",
   "nbconvert_exporter": "python",
   "pygments_lexer": "ipython3",
   "version": "3.10.16"
  }
 },
 "nbformat": 4,
 "nbformat_minor": 5
}
