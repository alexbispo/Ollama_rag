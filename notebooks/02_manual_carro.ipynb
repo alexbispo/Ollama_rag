{
 "cells": [
  {
   "cell_type": "code",
   "execution_count": 1,
   "id": "26cfff4c",
   "metadata": {},
   "outputs": [
    {
     "name": "stdout",
     "output_type": "stream",
     "text": [
      "Note: you may need to restart the kernel to use updated packages.\n"
     ]
    }
   ],
   "source": [
    "%pip install -q --upgrade pip"
   ]
  },
  {
   "cell_type": "code",
   "execution_count": 2,
   "id": "ca50c431",
   "metadata": {},
   "outputs": [
    {
     "name": "stdout",
     "output_type": "stream",
     "text": [
      "Note: you may need to restart the kernel to use updated packages.\n"
     ]
    }
   ],
   "source": [
    "%pip install -q ollama pypdf chromadb numpy"
   ]
  },
  {
   "cell_type": "code",
   "execution_count": 3,
   "id": "bf1b3c14",
   "metadata": {},
   "outputs": [],
   "source": [
    "import ollama"
   ]
  },
  {
   "cell_type": "code",
   "execution_count": 4,
   "id": "52587f1b",
   "metadata": {},
   "outputs": [],
   "source": [
    "model = \"granite3.3:2b\"\n",
    "options = {\n",
    "    \"temperature\": 0,\n",
    "    \"top-p\": 0.9\n",
    "}"
   ]
  },
  {
   "cell_type": "code",
   "execution_count": 5,
   "id": "8322bbf0",
   "metadata": {},
   "outputs": [],
   "source": [
    "def chat_assistant(question: str) -> str:\n",
    "    messages = [\n",
    "        {\n",
    "            \"role\": \"system\",\n",
    "            \"content\": \"\"\"\n",
    "            Você é um mecânico especialista em carros Hyundai HB20. \n",
    "            Sua tarefa é responder perguntas sobre a operacão, manutenção e especificação dos veículos Hyundai HB20 de forma objetiva e direta.\n",
    "            Forneça respostas curtas e diretas.\n",
    "            Ignore qualquer pergunta não relacionada ao veículos Hyundai HB20, respondendo de forma cordial 'Desculpe não tenho esta informacão'.\n",
    "            Responda cordialmente 'Desculpe não tenho esta informacão' para perguntas que você não sabe a resposta.\n",
    "            \"\"\"\n",
    "        },\n",
    "        {\n",
    "            \"role\": \"user\",\n",
    "            \"content\": question\n",
    "        } \n",
    "    ]\n",
    "\n",
    "    resp = ollama.chat(model=model, messages=messages, options=options)\n",
    "    return resp[\"message\"][\"content\"]"
   ]
  },
  {
   "cell_type": "code",
   "execution_count": 6,
   "id": "232e5515",
   "metadata": {},
   "outputs": [
    {
     "name": "stdout",
     "output_type": "stream",
     "text": [
      "> R: A pressão recomendada de ar dos pneus do Hyundai HB20 é de 32 psi (PSI) para carga normal.\n"
     ]
    }
   ],
   "source": [
    "print(\"> R:\", chat_assistant(\"Qual a pressão em psi para carga normal dos pneus do meu HB20?\"))"
   ]
  },
  {
   "cell_type": "code",
   "execution_count": 7,
   "id": "b48b66ac",
   "metadata": {},
   "outputs": [
    {
     "name": "stdout",
     "output_type": "stream",
     "text": [
      "> R: A Hyundai HB20, desde o modelo 2016 em diante, utiliza uma bateria de íon de lítio para a chave inteligente.\n"
     ]
    }
   ],
   "source": [
    "print(\"> R:\", chat_assistant(\"Qual é tipo de bateria da chave inteligente do meu HB20?\"))"
   ]
  },
  {
   "cell_type": "markdown",
   "id": "a3733917",
   "metadata": {},
   "source": [
    "## RAG - Retrieval-Augmented Generation"
   ]
  },
  {
   "cell_type": "code",
   "execution_count": 8,
   "id": "d5bdd7f8",
   "metadata": {},
   "outputs": [],
   "source": [
    "import pypdf\n",
    "import chromadb\n",
    "import textwrap\n",
    "import numpy as np"
   ]
  },
  {
   "cell_type": "code",
   "execution_count": 9,
   "id": "b860a865",
   "metadata": {},
   "outputs": [],
   "source": [
    "embedding_model = \"granite-embedding:278m\""
   ]
  },
  {
   "cell_type": "code",
   "execution_count": 10,
   "id": "95ea48df",
   "metadata": {},
   "outputs": [],
   "source": [
    "def extract_text_from_pdf(pdf_path: str) -> str:\n",
    "    reader = pypdf.PdfReader(pdf_path)\n",
    "    text_content = \"\"\n",
    "\n",
    "    for page in reader.pages:\n",
    "        text_content += page.extract_text()\n",
    "    \n",
    "    return text_content"
   ]
  },
  {
   "cell_type": "code",
   "execution_count": 11,
   "id": "1ac1da50",
   "metadata": {},
   "outputs": [],
   "source": [
    "documents = [\"../data/manual-hb20.pdf\"]"
   ]
  },
  {
   "cell_type": "code",
   "execution_count": 12,
   "id": "f8b7fffc",
   "metadata": {},
   "outputs": [
    {
     "name": "stdout",
     "output_type": "stream",
     "text": [
      "> Trecho do documento ../data/manual-hb20.pdf:\n",
      " A1SO-PB2212A\n",
      "(Português/Brasil)\n",
      "Hyundai Motor Brasil Ltda.\n",
      "Assistência 24 Horas: 0800-7703355\n",
      "Impresso em 12/2022 - BAN-OP: XXXXX\n",
      "HB20 Manual do Proprietário | Português\n",
      "Manual do Proprietário\n",
      "HB20MAN\n"
     ]
    }
   ],
   "source": [
    "for document in documents:\n",
    "    print(f\"> Trecho do documento {document}:\\n\", extract_text_from_pdf(document)[:200])"
   ]
  },
  {
   "cell_type": "code",
   "execution_count": 17,
   "id": "941490f0",
   "metadata": {},
   "outputs": [],
   "source": [
    "import chromadb.errors\n",
    "\n",
    "\n",
    "def create_collection(collection_name: str) -> chromadb.Collection:\n",
    "    client = chromadb.Client()\n",
    "\n",
    "    try:\n",
    "        return client.get_collection(name=collection_name)\n",
    "    except chromadb.errors.NotFoundError:\n",
    "        return client.create_collection(name=collection_name)"
   ]
  },
  {
   "cell_type": "code",
   "execution_count": 18,
   "id": "1f1a95be",
   "metadata": {},
   "outputs": [],
   "source": [
    "def add_document_to_index(collection: chromadb.Collection, doc_name: str, doc_content: str, chunk_size=1000):\n",
    "    print(\"> Processando o docuemnto:\", doc_name)\n",
    "    chunks = textwrap.wrap(doc_content, chunk_size)\n",
    "\n",
    "    for i, chunk in enumerate(chunks):\n",
    "        resp = ollama.embeddings(model=embedding_model, prompt=chunk)\n",
    "        embedding = resp[\"embedding\"]\n",
    "\n",
    "        collection.add(\n",
    "            ids=[f\"{doc_name}-{i}\"],\n",
    "            embeddings=embedding,\n",
    "            documents=[chunk],\n",
    "            metadatas=[{\"source\": doc_name}]\n",
    "        )\n",
    "\n",
    "    print(f\"> Documento {doc_name} idexado com sucesso em {len(chunks)} chunks.\")\n"
   ]
  },
  {
   "cell_type": "code",
   "execution_count": 19,
   "id": "36ef9926",
   "metadata": {},
   "outputs": [],
   "source": [
    "def ask_to_rag(question: str, collection: chromadb.Collection) -> str:\n",
    "    question_embedding = ollama.embeddings(model=embedding_model, prompt=question)[\"embedding\"]\n",
    "\n",
    "    results = collection.query(\n",
    "        query_embeddings=[question_embedding],\n",
    "        n_results=2\n",
    "    )\n",
    "\n",
    "    print(\"> Resultados recuperados:\", results)\n",
    "    \n",
    "    retrieved_contex = \"\\n\".join(results[\"documents\"][0])\n",
    "    print(\"> Contexto recuperado:\", retrieved_contex)\n",
    "\n",
    "    messages = [\n",
    "        {\n",
    "            \"role\": \"system\",\n",
    "            \"content\": \"\"\"\n",
    "            Você é um mecânico especialista em carros Hyundai HB20. \n",
    "            Sua tarefa é responder perguntas sobre a operacão, manutenção e especificação dos veículos Hyundai HB20 de forma objetiva e direta.\n",
    "            Forneça respostas curtas e diretas.\n",
    "            Ignore qualquer pergunta não relacionada ao veículos Hyundai HB20, respondendo de forma cordial 'Desculpe não tenho esta informacão'.\n",
    "            Responda cordialmente 'Desculpe não tenho esta informacão' para perguntas que você não sabe a resposta.\n",
    "            \"\"\"\n",
    "        },\n",
    "        {\n",
    "            \"role\": \"documents_doc_1\",\n",
    "            \"content\": retrieved_contex\n",
    "        },\n",
    "        {\n",
    "            \"role\": \"user\",\n",
    "            \"content\": question\n",
    "        } \n",
    "    ]\n",
    "\n",
    "    resp = ollama.chat(model=model, messages=messages, options=options)\n",
    "    return resp[\"message\"][\"content\"]"
   ]
  },
  {
   "cell_type": "code",
   "execution_count": 20,
   "id": "e4af056f",
   "metadata": {},
   "outputs": [],
   "source": [
    "collection = create_collection(\"manual_hb20\")"
   ]
  },
  {
   "cell_type": "code",
   "execution_count": 21,
   "id": "dbe009d2",
   "metadata": {},
   "outputs": [
    {
     "name": "stdout",
     "output_type": "stream",
     "text": [
      "> Processando o docuemnto: ../data/manual-hb20.pdf\n",
      "> Documento ../data/manual-hb20.pdf idexado com sucesso em 767 chunks.\n"
     ]
    }
   ],
   "source": [
    "for doc_name in documents:\n",
    "    doc_content = extract_text_from_pdf(doc_name)\n",
    "    add_document_to_index(collection, doc_name, doc_content)"
   ]
  },
  {
   "cell_type": "code",
   "execution_count": 22,
   "id": "3a65fda6",
   "metadata": {},
   "outputs": [
    {
     "name": "stdout",
     "output_type": "stream",
     "text": [
      "> Resultados recuperados: {'ids': [['../data/manual-hb20.pdf-691', '../data/manual-hb20.pdf-463']], 'embeddings': None, 'documents': [['especificações (tamanhos e pressão)  podem ser encontradas na etiqueta localizada  na coluna central do lado do motorista. pressão recomendada dos pneus  frios A pressão de todos os pneus (incluindo o es- tepe) deve ser verificada com os pneus frios.  “Pneu frio” significa que o veículo está parado  há pelo menos 3 horas ou não percorreu mais  do que 1,6 km. Pneus quentes normalmente excedem a pres- são dos pneus frios em 28 a 41 kPa (4 a 6 psi).  Não libere ar dos pneus quentes para ajustar a  pressão senão eles ficarão com pressão abai- xo da indicada. A pressão recomendada para  pneus está em “Pneus e Rodas” na Seção 2.9-38 Manutenção atenÇÃo a pressão recomendada deve ser mantida  para dirigir melhor, boas manobras e mini- mo desgaste dos pneus. pressão do pneu acima ou abaixo da espe- cificada pode reduzir a vida útil do pneu,  afetar negativamente a dirigibilidade do  veículo e causar falhas repentinas, resul- tando em perda de controle do veículo e  causando um acidente. pressão', 'as rodas para balancear a dirigibi - lidade do veículo em todas as condições cli- máticas. A tração fornecida por pneus para  neve em estradas secas pode não ser tão alta  quanto a dos pneus originais. Verifique junto  ao revendedor de pneus as recomendações  de velocidade máxima. NOTA Não instale pneus com pregos sem antes  verificar as regulamentações locais, esta- duais e municipais quanto a possíveis res- trições contra sua utilização.6-44 Durante a condução  OBR2062020BR Correntes para pneus Uma vez que as paredes laterais dos pneus ra- diais são mais finas, elas podem ser danificadas  pela montagem de alguns tipos de correntes  para neve. Portanto, recomendamos a utiliza- ção de pneus para neve em lugar de correntes  para neve. Não monte correntes para pneus em  veículos equipados com rodas de alumínio; se  for inevitável use um corrente tipo de arame. Se  precisar utilizar correntes para neve, utilize pe- ças originais HYUNDAI e instale correntes nos  pneus após revisar as']], 'uris': None, 'included': ['metadatas', 'documents', 'distances'], 'data': None, 'metadatas': [[{'source': '../data/manual-hb20.pdf'}, {'source': '../data/manual-hb20.pdf'}]], 'distances': [[187.25296020507812, 188.73977661132812]]}\n",
      "> Contexto recuperado: especificações (tamanhos e pressão)  podem ser encontradas na etiqueta localizada  na coluna central do lado do motorista. pressão recomendada dos pneus  frios A pressão de todos os pneus (incluindo o es- tepe) deve ser verificada com os pneus frios.  “Pneu frio” significa que o veículo está parado  há pelo menos 3 horas ou não percorreu mais  do que 1,6 km. Pneus quentes normalmente excedem a pres- são dos pneus frios em 28 a 41 kPa (4 a 6 psi).  Não libere ar dos pneus quentes para ajustar a  pressão senão eles ficarão com pressão abai- xo da indicada. A pressão recomendada para  pneus está em “Pneus e Rodas” na Seção 2.9-38 Manutenção atenÇÃo a pressão recomendada deve ser mantida  para dirigir melhor, boas manobras e mini- mo desgaste dos pneus. pressão do pneu acima ou abaixo da espe- cificada pode reduzir a vida útil do pneu,  afetar negativamente a dirigibilidade do  veículo e causar falhas repentinas, resul- tando em perda de controle do veículo e  causando um acidente. pressão\n",
      "as rodas para balancear a dirigibi - lidade do veículo em todas as condições cli- máticas. A tração fornecida por pneus para  neve em estradas secas pode não ser tão alta  quanto a dos pneus originais. Verifique junto  ao revendedor de pneus as recomendações  de velocidade máxima. NOTA Não instale pneus com pregos sem antes  verificar as regulamentações locais, esta- duais e municipais quanto a possíveis res- trições contra sua utilização.6-44 Durante a condução  OBR2062020BR Correntes para pneus Uma vez que as paredes laterais dos pneus ra- diais são mais finas, elas podem ser danificadas  pela montagem de alguns tipos de correntes  para neve. Portanto, recomendamos a utiliza- ção de pneus para neve em lugar de correntes  para neve. Não monte correntes para pneus em  veículos equipados com rodas de alumínio; se  for inevitável use um corrente tipo de arame. Se  precisar utilizar correntes para neve, utilize pe- ças originais HYUNDAI e instale correntes nos  pneus após revisar as\n",
      "> R: A pressão recomendada para os pneus do Hyundai HB20, conforme especificado na etiqueta localizada na coluna central do lado do motorista, é de 36 psi (PSI). No entanto, é importante verificar a pressão dos pneus frios, pois os pneus quentes podem exceder essa pressão em até 41 kPa (6 psi). A manutenção da pressão correta é crucial para dirigibilidade, segurança e vida útil dos pneus.\n"
     ]
    }
   ],
   "source": [
    "print(\"> R:\", ask_to_rag(\n",
    "  \"Qual a pressão em psi para carga normal dos pneus do meu HB20?\",\n",
    "  collection))"
   ]
  },
  {
   "cell_type": "code",
   "execution_count": 23,
   "id": "ccfb0925",
   "metadata": {},
   "outputs": [
    {
     "name": "stdout",
     "output_type": "stream",
     "text": [
      "> Resultados recuperados: {'ids': [['../data/manual-hb20.pdf-197', '../data/manual-hb20.pdf-151']], 'embeddings': None, 'documents': [['do transmissor. Tipo de bateria: CR2032 Para substituir a bateria: 1. Insira uma ferramenta fina da fenda e deli - cadamente remova a tampa da chave. 2. Com uma chave de fenda remova a tampa  da bateria (A). 3. Remova a bateria usada e insira a bateria  nova (B). Certifique-se que a posição da  bateria (polaridade) esteja correta.  4. Instale a tampa da bateria e a tampa da  chave em ordem inversa à remoção. \\uf06e Tipo B5-9 05 OBR2069022BR OBA0432222IN  OBR2059001BR OBR2052074BR \\uf06e Tipo A \\uf06e Tipo C \\uf06e Tipo B uma bateria descartada de  maneira inadequada pode ser  prejudicial ao meio ambiente  e à saúde humana. descarte a  bateria de acordo com a legis- lação local pertinente. chave inteligente - smart key (se  equipado) Seu HYUNDAI usa uma chave inteligente, que  pode ser usada para travar ou destravar uma  porta (e o porta-malas/tampa traseira) e tam- bém para partida do motor. 1. Trava a porta 2. Destrava a porta 3. Destrava a tampa traseira/porta-malas 4. Pânico (se equipado) 5. Partida', 'seu veí- culo a uma concessionária autorizada Hyundai  Motor Brasil (HMB), para inspeção. Bateria da chave descarregada (para  o sistema de chave inteligente) Esta mensagem de advertência é mostrada se  a bateria da chave inteligente estiver descar- regada enquanto mudar do botão de Partida/ Parada do motor para a posição OFF. Selecione P (para o sistema de  chave inteligente e/ou transmissão  automática) Esta mensagem de advertência é exibida se  você tentar desligar o motor com a alavanca  de mudança em qualquer posição que não  seja P (Estacionamento). Neste momento, o botão de Partida/Parada do  Motor vai para a posição ACC (Se você pres- sionar o botão de Partida/Parada do Motor  mais uma vez, ele irá para a posição ON). Pressione o pedal do freio para ligar  o motor (para o sistema de chave  inteligente e transmissão automá- tica) Esta mensagem de advertência é mostrada  se o botão de Partida/Parada do motor mudar  para a posição ACC duas vezes pressionando  repetidamente o botão']], 'uris': None, 'included': ['metadatas', 'documents', 'distances'], 'data': None, 'metadatas': [[{'source': '../data/manual-hb20.pdf'}, {'source': '../data/manual-hb20.pdf'}]], 'distances': [[154.44674682617188, 196.07936096191406]]}\n",
      "> Contexto recuperado: do transmissor. Tipo de bateria: CR2032 Para substituir a bateria: 1. Insira uma ferramenta fina da fenda e deli - cadamente remova a tampa da chave. 2. Com uma chave de fenda remova a tampa  da bateria (A). 3. Remova a bateria usada e insira a bateria  nova (B). Certifique-se que a posição da  bateria (polaridade) esteja correta.  4. Instale a tampa da bateria e a tampa da  chave em ordem inversa à remoção.  Tipo B5-9 05 OBR2069022BR OBA0432222IN  OBR2059001BR OBR2052074BR  Tipo A  Tipo C  Tipo B uma bateria descartada de  maneira inadequada pode ser  prejudicial ao meio ambiente  e à saúde humana. descarte a  bateria de acordo com a legis- lação local pertinente. chave inteligente - smart key (se  equipado) Seu HYUNDAI usa uma chave inteligente, que  pode ser usada para travar ou destravar uma  porta (e o porta-malas/tampa traseira) e tam- bém para partida do motor. 1. Trava a porta 2. Destrava a porta 3. Destrava a tampa traseira/porta-malas 4. Pânico (se equipado) 5. Partida\n",
      "seu veí- culo a uma concessionária autorizada Hyundai  Motor Brasil (HMB), para inspeção. Bateria da chave descarregada (para  o sistema de chave inteligente) Esta mensagem de advertência é mostrada se  a bateria da chave inteligente estiver descar- regada enquanto mudar do botão de Partida/ Parada do motor para a posição OFF. Selecione P (para o sistema de  chave inteligente e/ou transmissão  automática) Esta mensagem de advertência é exibida se  você tentar desligar o motor com a alavanca  de mudança em qualquer posição que não  seja P (Estacionamento). Neste momento, o botão de Partida/Parada do  Motor vai para a posição ACC (Se você pres- sionar o botão de Partida/Parada do Motor  mais uma vez, ele irá para a posição ON). Pressione o pedal do freio para ligar  o motor (para o sistema de chave  inteligente e transmissão automá- tica) Esta mensagem de advertência é mostrada  se o botão de Partida/Parada do motor mudar  para a posição ACC duas vezes pressionando  repetidamente o botão\n",
      "> R: O Hyundai HB20 utiliza uma bateria CR2032 para a chave inteligente.\n"
     ]
    }
   ],
   "source": [
    "print(\"> R:\", ask_to_rag(\n",
    "  \"Qual é tipo de bateria da chave inteligente do meu HB20?\",\n",
    "  collection\n",
    "))"
   ]
  },
  {
   "cell_type": "code",
   "execution_count": 26,
   "id": "7d361352",
   "metadata": {},
   "outputs": [
    {
     "name": "stdout",
     "output_type": "stream",
     "text": [
      "> Resultados recuperados: {'ids': [['../data/manual-hb20.pdf-173', '../data/manual-hb20.pdf-683']], 'embeddings': None, 'documents': [['combustível é zerada (-- -) quando a velocidade do veículo exceder 1,5  km/h após reabastecer mais de 5 litros. NOTA a economia média de combustível não é  mostrada para cálculo mais preciso se o  veículo não rodar mais de 10 segundos ou  50 metros desde que o interruptor de igni - ção é colocado em on. OBR2042046BR4-37 04 OBR2042048BR Tempo decorrido • O tempo decorrido é o tempo total de con- dução desde o reinício do último tempo de- corrido. - Faixa de tempo (hh:mm): 00:00 ~ 99:59 • Para reiniciar manualmente, pressione o  botão OK no volante de direção por mais  de 1 segundo quando aparecer “Tempo de- corrido”. NOTA mesmo que o veículo não esteja em mo- vimento, o tempo decorrido continua en- quanto o motor estiver funcionando.4-38 Painel de instrumentos ComPutador de Bordo (tiPo B) Este computador de bordo é um sistema de  informação ao motorista controlado por micro- computador, que mostra informações relativas  à condução. NOTA algumas informações de condução ar- mazenadas no', 'firmeza tentando puxá- -lo levemente. 4. Gire de volta o conjunto da palheta para  que se alinhe com o braço do limpador. Para evitar dano aos braços do limpador ou  outros componentes, recomendamos que  a palheta do limpador seja trocada na con- cessionária autorizada Hyundai Motor Brasil  (HMB).9-32 Manutenção OBR2082079BR Bateria • Mantenha a bateria firmemente instalada. • Mantenha a parte superior da bateria limpa  e seca. • Mantenha os terminais e as conexões lim- pos, apertados e protegidos por uma fina  camada de vaselina ou graxa. • Limpe imediatamente qualquer eletrólito  derramado pela bateria com uma solução  de bicarbonato de sódio e água. • Se o veículo não for utilizado por um pe- ríodo prolongado, desconecte os cabos da  bateria. atenÇÃo para evitar FerimentoS SÉrioS oU Fa- taiS a você e outras pessoas, adote sem- pre estas precauções ao trabalhar perto de  uma bateria ou manuseá-la. Sempre leia e siga as cuidadosa- mente as instruções ao manusear  uma bateria. Use']], 'uris': None, 'included': ['metadatas', 'documents', 'distances'], 'data': None, 'metadatas': [[{'source': '../data/manual-hb20.pdf'}, {'source': '../data/manual-hb20.pdf'}]], 'distances': [[211.00149536132812, 218.74752807617188]]}\n",
      "> Contexto recuperado: combustível é zerada (-- -) quando a velocidade do veículo exceder 1,5  km/h após reabastecer mais de 5 litros. NOTA a economia média de combustível não é  mostrada para cálculo mais preciso se o  veículo não rodar mais de 10 segundos ou  50 metros desde que o interruptor de igni - ção é colocado em on. OBR2042046BR4-37 04 OBR2042048BR Tempo decorrido • O tempo decorrido é o tempo total de con- dução desde o reinício do último tempo de- corrido. - Faixa de tempo (hh:mm): 00:00 ~ 99:59 • Para reiniciar manualmente, pressione o  botão OK no volante de direção por mais  de 1 segundo quando aparecer “Tempo de- corrido”. NOTA mesmo que o veículo não esteja em mo- vimento, o tempo decorrido continua en- quanto o motor estiver funcionando.4-38 Painel de instrumentos ComPutador de Bordo (tiPo B) Este computador de bordo é um sistema de  informação ao motorista controlado por micro- computador, que mostra informações relativas  à condução. NOTA algumas informações de condução ar- mazenadas no\n",
      "firmeza tentando puxá- -lo levemente. 4. Gire de volta o conjunto da palheta para  que se alinhe com o braço do limpador. Para evitar dano aos braços do limpador ou  outros componentes, recomendamos que  a palheta do limpador seja trocada na con- cessionária autorizada Hyundai Motor Brasil  (HMB).9-32 Manutenção OBR2082079BR Bateria • Mantenha a bateria firmemente instalada. • Mantenha a parte superior da bateria limpa  e seca. • Mantenha os terminais e as conexões lim- pos, apertados e protegidos por uma fina  camada de vaselina ou graxa. • Limpe imediatamente qualquer eletrólito  derramado pela bateria com uma solução  de bicarbonato de sódio e água. • Se o veículo não for utilizado por um pe- ríodo prolongado, desconecte os cabos da  bateria. atenÇÃo para evitar FerimentoS SÉrioS oU Fa- taiS a você e outras pessoas, adote sem- pre estas precauções ao trabalhar perto de  uma bateria ou manuseá-la. Sempre leia e siga as cuidadosa- mente as instruções ao manusear  uma bateria. Use\n",
      "> R: Desculpe não tenho esta informação.\n"
     ]
    }
   ],
   "source": [
    "print(\"> R:\", ask_to_rag(\n",
    "  \"Qual é o tempo de duração da bateria do meu HB20?\",\n",
    "  collection\n",
    "))"
   ]
  },
  {
   "cell_type": "code",
   "execution_count": 27,
   "id": "fc4b616f",
   "metadata": {},
   "outputs": [
    {
     "name": "stdout",
     "output_type": "stream",
     "text": [
      "> Resultados recuperados: {'ids': [['../data/manual-hb20.pdf-197', '../data/manual-hb20.pdf-151']], 'embeddings': None, 'documents': [['do transmissor. Tipo de bateria: CR2032 Para substituir a bateria: 1. Insira uma ferramenta fina da fenda e deli - cadamente remova a tampa da chave. 2. Com uma chave de fenda remova a tampa  da bateria (A). 3. Remova a bateria usada e insira a bateria  nova (B). Certifique-se que a posição da  bateria (polaridade) esteja correta.  4. Instale a tampa da bateria e a tampa da  chave em ordem inversa à remoção. \\uf06e Tipo B5-9 05 OBR2069022BR OBA0432222IN  OBR2059001BR OBR2052074BR \\uf06e Tipo A \\uf06e Tipo C \\uf06e Tipo B uma bateria descartada de  maneira inadequada pode ser  prejudicial ao meio ambiente  e à saúde humana. descarte a  bateria de acordo com a legis- lação local pertinente. chave inteligente - smart key (se  equipado) Seu HYUNDAI usa uma chave inteligente, que  pode ser usada para travar ou destravar uma  porta (e o porta-malas/tampa traseira) e tam- bém para partida do motor. 1. Trava a porta 2. Destrava a porta 3. Destrava a tampa traseira/porta-malas 4. Pânico (se equipado) 5. Partida', 'seu veí- culo a uma concessionária autorizada Hyundai  Motor Brasil (HMB), para inspeção. Bateria da chave descarregada (para  o sistema de chave inteligente) Esta mensagem de advertência é mostrada se  a bateria da chave inteligente estiver descar- regada enquanto mudar do botão de Partida/ Parada do motor para a posição OFF. Selecione P (para o sistema de  chave inteligente e/ou transmissão  automática) Esta mensagem de advertência é exibida se  você tentar desligar o motor com a alavanca  de mudança em qualquer posição que não  seja P (Estacionamento). Neste momento, o botão de Partida/Parada do  Motor vai para a posição ACC (Se você pres- sionar o botão de Partida/Parada do Motor  mais uma vez, ele irá para a posição ON). Pressione o pedal do freio para ligar  o motor (para o sistema de chave  inteligente e transmissão automá- tica) Esta mensagem de advertência é mostrada  se o botão de Partida/Parada do motor mudar  para a posição ACC duas vezes pressionando  repetidamente o botão']], 'uris': None, 'included': ['metadatas', 'documents', 'distances'], 'data': None, 'metadatas': [[{'source': '../data/manual-hb20.pdf'}, {'source': '../data/manual-hb20.pdf'}]], 'distances': [[145.49725341796875, 184.78863525390625]]}\n",
      "> Contexto recuperado: do transmissor. Tipo de bateria: CR2032 Para substituir a bateria: 1. Insira uma ferramenta fina da fenda e deli - cadamente remova a tampa da chave. 2. Com uma chave de fenda remova a tampa  da bateria (A). 3. Remova a bateria usada e insira a bateria  nova (B). Certifique-se que a posição da  bateria (polaridade) esteja correta.  4. Instale a tampa da bateria e a tampa da  chave em ordem inversa à remoção.  Tipo B5-9 05 OBR2069022BR OBA0432222IN  OBR2059001BR OBR2052074BR  Tipo A  Tipo C  Tipo B uma bateria descartada de  maneira inadequada pode ser  prejudicial ao meio ambiente  e à saúde humana. descarte a  bateria de acordo com a legis- lação local pertinente. chave inteligente - smart key (se  equipado) Seu HYUNDAI usa uma chave inteligente, que  pode ser usada para travar ou destravar uma  porta (e o porta-malas/tampa traseira) e tam- bém para partida do motor. 1. Trava a porta 2. Destrava a porta 3. Destrava a tampa traseira/porta-malas 4. Pânico (se equipado) 5. Partida\n",
      "seu veí- culo a uma concessionária autorizada Hyundai  Motor Brasil (HMB), para inspeção. Bateria da chave descarregada (para  o sistema de chave inteligente) Esta mensagem de advertência é mostrada se  a bateria da chave inteligente estiver descar- regada enquanto mudar do botão de Partida/ Parada do motor para a posição OFF. Selecione P (para o sistema de  chave inteligente e/ou transmissão  automática) Esta mensagem de advertência é exibida se  você tentar desligar o motor com a alavanca  de mudança em qualquer posição que não  seja P (Estacionamento). Neste momento, o botão de Partida/Parada do  Motor vai para a posição ACC (Se você pres- sionar o botão de Partida/Parada do Motor  mais uma vez, ele irá para a posição ON). Pressione o pedal do freio para ligar  o motor (para o sistema de chave  inteligente e transmissão automá- tica) Esta mensagem de advertência é mostrada  se o botão de Partida/Parada do motor mudar  para a posição ACC duas vezes pressionando  repetidamente o botão\n",
      "> R: Para substituir a bateria da chave inteligente no Hyundai HB20, siga estas etapas:\n",
      "1. Remova a tampa da chave (A).\n",
      "2. Remova a bateria usada (B) e insira a nova bateria CR2032 na posição correta (polaridade).\n",
      "3. Instale as tampas de chave e bateria em ordem inversa à remoção <|start_of_cite|>{\"document_id\": \"_doc_1/\"}<|end_of_cite|>.\n",
      "\n",
      "Lembre-se de descartar a bateria usada conforme as leis locais para evitar danos ao meio ambiente e à saúde humana.\n"
     ]
    }
   ],
   "source": [
    "print(\"> R:\", ask_to_rag(\n",
    "  \"Como trocar a bateria da chave inteligente do meu HB20?\",\n",
    "  collection\n",
    "))"
   ]
  },
  {
   "cell_type": "code",
   "execution_count": 31,
   "id": "ddb24d06",
   "metadata": {},
   "outputs": [
    {
     "name": "stdout",
     "output_type": "stream",
     "text": [
      "> Resultados recuperados: {'ids': [['../data/manual-hb20.pdf-691', '../data/manual-hb20.pdf-620']], 'embeddings': None, 'documents': [['especificações (tamanhos e pressão)  podem ser encontradas na etiqueta localizada  na coluna central do lado do motorista. pressão recomendada dos pneus  frios A pressão de todos os pneus (incluindo o es- tepe) deve ser verificada com os pneus frios.  “Pneu frio” significa que o veículo está parado  há pelo menos 3 horas ou não percorreu mais  do que 1,6 km. Pneus quentes normalmente excedem a pres- são dos pneus frios em 28 a 41 kPa (4 a 6 psi).  Não libere ar dos pneus quentes para ajustar a  pressão senão eles ficarão com pressão abai- xo da indicada. A pressão recomendada para  pneus está em “Pneus e Rodas” na Seção 2.9-38 Manutenção atenÇÃo a pressão recomendada deve ser mantida  para dirigir melhor, boas manobras e mini- mo desgaste dos pneus. pressão do pneu acima ou abaixo da espe- cificada pode reduzir a vida útil do pneu,  afetar negativamente a dirigibilidade do  veículo e causar falhas repentinas, resul- tando em perda de controle do veículo e  causando um acidente. pressão', 'especificado para seu veí- culo e/ou encha o pneu com pressão bai- xa. o selante de pneu não aprovado pela  concessionária autorizada Hyundai motor  Brasil (HMB) pode danificar o sensor de  pressão do pneu. o estepe (se equipado) não está equipado  com o sensor de monitoramento da pressão.  Quando o pneu com baixa pressão ou fura- do for substituído pelo estepe, o Indicador de  Pressão baixa do Pneu continua aceso. o In- dicador de Funcionamento Incorreto do TPMS  acenderá após piscar por um minuto se o ve- ículo for dirigido em velocidade acima de 25  km/h por aproximadamente 10 minutos. Uma vez que o pneu original equipado com  sensor de monitoramento da pressão for in- flado novamente na pressão recomendada e  instalado no veículo, a Indicação de Pressão  baixa do Pneu e Indicador de Funcionamento  Incorreto do TPMS apagarão dentro de alguns  minutos após dirigir. Se o indicador não apagar após alguns minu- tos de condução, recomendamos que o sis- tema seja inspecionado pela']], 'uris': None, 'included': ['metadatas', 'documents', 'distances'], 'data': None, 'metadatas': [[{'source': '../data/manual-hb20.pdf'}, {'source': '../data/manual-hb20.pdf'}]], 'distances': [[155.89892578125, 161.61422729492188]]}\n",
      "> Contexto recuperado: especificações (tamanhos e pressão)  podem ser encontradas na etiqueta localizada  na coluna central do lado do motorista. pressão recomendada dos pneus  frios A pressão de todos os pneus (incluindo o es- tepe) deve ser verificada com os pneus frios.  “Pneu frio” significa que o veículo está parado  há pelo menos 3 horas ou não percorreu mais  do que 1,6 km. Pneus quentes normalmente excedem a pres- são dos pneus frios em 28 a 41 kPa (4 a 6 psi).  Não libere ar dos pneus quentes para ajustar a  pressão senão eles ficarão com pressão abai- xo da indicada. A pressão recomendada para  pneus está em “Pneus e Rodas” na Seção 2.9-38 Manutenção atenÇÃo a pressão recomendada deve ser mantida  para dirigir melhor, boas manobras e mini- mo desgaste dos pneus. pressão do pneu acima ou abaixo da espe- cificada pode reduzir a vida útil do pneu,  afetar negativamente a dirigibilidade do  veículo e causar falhas repentinas, resul- tando em perda de controle do veículo e  causando um acidente. pressão\n",
      "especificado para seu veí- culo e/ou encha o pneu com pressão bai- xa. o selante de pneu não aprovado pela  concessionária autorizada Hyundai motor  Brasil (HMB) pode danificar o sensor de  pressão do pneu. o estepe (se equipado) não está equipado  com o sensor de monitoramento da pressão.  Quando o pneu com baixa pressão ou fura- do for substituído pelo estepe, o Indicador de  Pressão baixa do Pneu continua aceso. o In- dicador de Funcionamento Incorreto do TPMS  acenderá após piscar por um minuto se o ve- ículo for dirigido em velocidade acima de 25  km/h por aproximadamente 10 minutos. Uma vez que o pneu original equipado com  sensor de monitoramento da pressão for in- flado novamente na pressão recomendada e  instalado no veículo, a Indicação de Pressão  baixa do Pneu e Indicador de Funcionamento  Incorreto do TPMS apagarão dentro de alguns  minutos após dirigir. Se o indicador não apagar após alguns minu- tos de condução, recomendamos que o sis- tema seja inspecionado pela\n",
      "> R: A pressão recomendada dos pneus do Hyundai HB20 pode ser encontrada na etiqueta localizada na coluna central do lado do motorista. A pressão deve ser verificada com os pneus frios, pois eles tendem a ter uma pressão ligeiramente menor quando comparados aos pneus quentes. A pressão recomendada para o HB20 está especificada na seção \"Pneus e Rodas\" do manual de manutenção.\n"
     ]
    }
   ],
   "source": [
    "print(\"> R:\", ask_to_rag(\n",
    "  \"Qual a pressão em psi indicada para os pneus do meu HB20?\",\n",
    "  collection))"
   ]
  },
  {
   "cell_type": "code",
   "execution_count": 30,
   "id": "363c6fd9",
   "metadata": {},
   "outputs": [
    {
     "name": "stdout",
     "output_type": "stream",
     "text": [
      "> Resultados recuperados: {'ids': [['../data/manual-hb20.pdf-691', '../data/manual-hb20.pdf-463']], 'embeddings': None, 'documents': [['especificações (tamanhos e pressão)  podem ser encontradas na etiqueta localizada  na coluna central do lado do motorista. pressão recomendada dos pneus  frios A pressão de todos os pneus (incluindo o es- tepe) deve ser verificada com os pneus frios.  “Pneu frio” significa que o veículo está parado  há pelo menos 3 horas ou não percorreu mais  do que 1,6 km. Pneus quentes normalmente excedem a pres- são dos pneus frios em 28 a 41 kPa (4 a 6 psi).  Não libere ar dos pneus quentes para ajustar a  pressão senão eles ficarão com pressão abai- xo da indicada. A pressão recomendada para  pneus está em “Pneus e Rodas” na Seção 2.9-38 Manutenção atenÇÃo a pressão recomendada deve ser mantida  para dirigir melhor, boas manobras e mini- mo desgaste dos pneus. pressão do pneu acima ou abaixo da espe- cificada pode reduzir a vida útil do pneu,  afetar negativamente a dirigibilidade do  veículo e causar falhas repentinas, resul- tando em perda de controle do veículo e  causando um acidente. pressão', 'as rodas para balancear a dirigibi - lidade do veículo em todas as condições cli- máticas. A tração fornecida por pneus para  neve em estradas secas pode não ser tão alta  quanto a dos pneus originais. Verifique junto  ao revendedor de pneus as recomendações  de velocidade máxima. NOTA Não instale pneus com pregos sem antes  verificar as regulamentações locais, esta- duais e municipais quanto a possíveis res- trições contra sua utilização.6-44 Durante a condução  OBR2062020BR Correntes para pneus Uma vez que as paredes laterais dos pneus ra- diais são mais finas, elas podem ser danificadas  pela montagem de alguns tipos de correntes  para neve. Portanto, recomendamos a utiliza- ção de pneus para neve em lugar de correntes  para neve. Não monte correntes para pneus em  veículos equipados com rodas de alumínio; se  for inevitável use um corrente tipo de arame. Se  precisar utilizar correntes para neve, utilize pe- ças originais HYUNDAI e instale correntes nos  pneus após revisar as']], 'uris': None, 'included': ['metadatas', 'documents', 'distances'], 'data': None, 'metadatas': [[{'source': '../data/manual-hb20.pdf'}, {'source': '../data/manual-hb20.pdf'}]], 'distances': [[187.25296020507812, 188.73977661132812]]}\n",
      "> Contexto recuperado: especificações (tamanhos e pressão)  podem ser encontradas na etiqueta localizada  na coluna central do lado do motorista. pressão recomendada dos pneus  frios A pressão de todos os pneus (incluindo o es- tepe) deve ser verificada com os pneus frios.  “Pneu frio” significa que o veículo está parado  há pelo menos 3 horas ou não percorreu mais  do que 1,6 km. Pneus quentes normalmente excedem a pres- são dos pneus frios em 28 a 41 kPa (4 a 6 psi).  Não libere ar dos pneus quentes para ajustar a  pressão senão eles ficarão com pressão abai- xo da indicada. A pressão recomendada para  pneus está em “Pneus e Rodas” na Seção 2.9-38 Manutenção atenÇÃo a pressão recomendada deve ser mantida  para dirigir melhor, boas manobras e mini- mo desgaste dos pneus. pressão do pneu acima ou abaixo da espe- cificada pode reduzir a vida útil do pneu,  afetar negativamente a dirigibilidade do  veículo e causar falhas repentinas, resul- tando em perda de controle do veículo e  causando um acidente. pressão\n",
      "as rodas para balancear a dirigibi - lidade do veículo em todas as condições cli- máticas. A tração fornecida por pneus para  neve em estradas secas pode não ser tão alta  quanto a dos pneus originais. Verifique junto  ao revendedor de pneus as recomendações  de velocidade máxima. NOTA Não instale pneus com pregos sem antes  verificar as regulamentações locais, esta- duais e municipais quanto a possíveis res- trições contra sua utilização.6-44 Durante a condução  OBR2062020BR Correntes para pneus Uma vez que as paredes laterais dos pneus ra- diais são mais finas, elas podem ser danificadas  pela montagem de alguns tipos de correntes  para neve. Portanto, recomendamos a utiliza- ção de pneus para neve em lugar de correntes  para neve. Não monte correntes para pneus em  veículos equipados com rodas de alumínio; se  for inevitável use um corrente tipo de arame. Se  precisar utilizar correntes para neve, utilize pe- ças originais HYUNDAI e instale correntes nos  pneus após revisar as\n",
      "> R: A pressão recomendada para os pneus do Hyundai HB20, conforme especificado na etiqueta localizada na coluna central do lado do motorista, é de 36 psi (PSI). No entanto, é importante verificar a pressão dos pneus frios, pois os pneus quentes podem exceder essa pressão em até 41 kPa (6 psi). A manutenção da pressão correta é crucial para dirigibilidade, segurança e vida útil dos pneus.\n"
     ]
    }
   ],
   "source": [
    "print(\"> R:\", ask_to_rag(\n",
    "  \"Qual a pressão em psi para carga normal dos pneus do meu HB20?\",\n",
    "  collection))"
   ]
  },
  {
   "cell_type": "code",
   "execution_count": 32,
   "id": "e85f40b0",
   "metadata": {},
   "outputs": [
    {
     "name": "stdout",
     "output_type": "stream",
     "text": [
      "> Resultados recuperados: {'ids': [['../data/manual-hb20.pdf-197', '../data/manual-hb20.pdf-151']], 'embeddings': None, 'documents': [['do transmissor. Tipo de bateria: CR2032 Para substituir a bateria: 1. Insira uma ferramenta fina da fenda e deli - cadamente remova a tampa da chave. 2. Com uma chave de fenda remova a tampa  da bateria (A). 3. Remova a bateria usada e insira a bateria  nova (B). Certifique-se que a posição da  bateria (polaridade) esteja correta.  4. Instale a tampa da bateria e a tampa da  chave em ordem inversa à remoção. \\uf06e Tipo B5-9 05 OBR2069022BR OBA0432222IN  OBR2059001BR OBR2052074BR \\uf06e Tipo A \\uf06e Tipo C \\uf06e Tipo B uma bateria descartada de  maneira inadequada pode ser  prejudicial ao meio ambiente  e à saúde humana. descarte a  bateria de acordo com a legis- lação local pertinente. chave inteligente - smart key (se  equipado) Seu HYUNDAI usa uma chave inteligente, que  pode ser usada para travar ou destravar uma  porta (e o porta-malas/tampa traseira) e tam- bém para partida do motor. 1. Trava a porta 2. Destrava a porta 3. Destrava a tampa traseira/porta-malas 4. Pânico (se equipado) 5. Partida', 'seu veí- culo a uma concessionária autorizada Hyundai  Motor Brasil (HMB), para inspeção. Bateria da chave descarregada (para  o sistema de chave inteligente) Esta mensagem de advertência é mostrada se  a bateria da chave inteligente estiver descar- regada enquanto mudar do botão de Partida/ Parada do motor para a posição OFF. Selecione P (para o sistema de  chave inteligente e/ou transmissão  automática) Esta mensagem de advertência é exibida se  você tentar desligar o motor com a alavanca  de mudança em qualquer posição que não  seja P (Estacionamento). Neste momento, o botão de Partida/Parada do  Motor vai para a posição ACC (Se você pres- sionar o botão de Partida/Parada do Motor  mais uma vez, ele irá para a posição ON). Pressione o pedal do freio para ligar  o motor (para o sistema de chave  inteligente e transmissão automá- tica) Esta mensagem de advertência é mostrada  se o botão de Partida/Parada do motor mudar  para a posição ACC duas vezes pressionando  repetidamente o botão']], 'uris': None, 'included': ['metadatas', 'documents', 'distances'], 'data': None, 'metadatas': [[{'source': '../data/manual-hb20.pdf'}, {'source': '../data/manual-hb20.pdf'}]], 'distances': [[154.44674682617188, 196.07936096191406]]}\n",
      "> Contexto recuperado: do transmissor. Tipo de bateria: CR2032 Para substituir a bateria: 1. Insira uma ferramenta fina da fenda e deli - cadamente remova a tampa da chave. 2. Com uma chave de fenda remova a tampa  da bateria (A). 3. Remova a bateria usada e insira a bateria  nova (B). Certifique-se que a posição da  bateria (polaridade) esteja correta.  4. Instale a tampa da bateria e a tampa da  chave em ordem inversa à remoção.  Tipo B5-9 05 OBR2069022BR OBA0432222IN  OBR2059001BR OBR2052074BR  Tipo A  Tipo C  Tipo B uma bateria descartada de  maneira inadequada pode ser  prejudicial ao meio ambiente  e à saúde humana. descarte a  bateria de acordo com a legis- lação local pertinente. chave inteligente - smart key (se  equipado) Seu HYUNDAI usa uma chave inteligente, que  pode ser usada para travar ou destravar uma  porta (e o porta-malas/tampa traseira) e tam- bém para partida do motor. 1. Trava a porta 2. Destrava a porta 3. Destrava a tampa traseira/porta-malas 4. Pânico (se equipado) 5. Partida\n",
      "seu veí- culo a uma concessionária autorizada Hyundai  Motor Brasil (HMB), para inspeção. Bateria da chave descarregada (para  o sistema de chave inteligente) Esta mensagem de advertência é mostrada se  a bateria da chave inteligente estiver descar- regada enquanto mudar do botão de Partida/ Parada do motor para a posição OFF. Selecione P (para o sistema de  chave inteligente e/ou transmissão  automática) Esta mensagem de advertência é exibida se  você tentar desligar o motor com a alavanca  de mudança em qualquer posição que não  seja P (Estacionamento). Neste momento, o botão de Partida/Parada do  Motor vai para a posição ACC (Se você pres- sionar o botão de Partida/Parada do Motor  mais uma vez, ele irá para a posição ON). Pressione o pedal do freio para ligar  o motor (para o sistema de chave  inteligente e transmissão automá- tica) Esta mensagem de advertência é mostrada  se o botão de Partida/Parada do motor mudar  para a posição ACC duas vezes pressionando  repetidamente o botão\n",
      "> R: O Hyundai HB20 utiliza uma bateria CR2032 para a chave inteligente.\n"
     ]
    }
   ],
   "source": [
    "print(\"> R:\", ask_to_rag(\n",
    "  \"Qual é tipo de bateria da chave inteligente do meu HB20?\",\n",
    "  collection\n",
    "))"
   ]
  },
  {
   "cell_type": "code",
   "execution_count": null,
   "id": "58a0daa3",
   "metadata": {},
   "outputs": [],
   "source": []
  }
 ],
 "metadata": {
  "kernelspec": {
   "display_name": ".venv",
   "language": "python",
   "name": "python3"
  },
  "language_info": {
   "codemirror_mode": {
    "name": "ipython",
    "version": 3
   },
   "file_extension": ".py",
   "mimetype": "text/x-python",
   "name": "python",
   "nbconvert_exporter": "python",
   "pygments_lexer": "ipython3",
   "version": "3.10.16"
  }
 },
 "nbformat": 4,
 "nbformat_minor": 5
}
