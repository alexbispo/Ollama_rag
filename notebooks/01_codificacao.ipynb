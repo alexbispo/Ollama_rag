{
 "cells": [
  {
   "cell_type": "code",
   "execution_count": 3,
   "id": "bf1b3c14",
   "metadata": {},
   "outputs": [],
   "source": [
    "import ollama"
   ]
  },
  {
   "cell_type": "code",
   "execution_count": 4,
   "id": "52587f1b",
   "metadata": {},
   "outputs": [],
   "source": [
    "model = \"granite3.3:2b\""
   ]
  },
  {
   "cell_type": "code",
   "execution_count": null,
   "id": "232e5515",
   "metadata": {},
   "outputs": [],
   "source": [
    "messages = [\n",
    "    {\n",
    "        \"role\": \"system\",\n",
    "        \"content\": \"\"\"\n",
    "        Você é um programador especialista em Ruby. \n",
    "        Sua tarefa é resolver o desafio a seguir escrevendo um script Ruby completo, correto e que siga as boas práticas da linguagem. \n",
    "        Forneça apenas o código, sem nenhuma introdução ou explicação adicional.\n",
    "        \"\"\"\n",
    "    },\n",
    "    {\n",
    "        \"role\": \"user\",\n",
    "        \"content\": \"\"\"\"\n",
    "        Em Ruby, crie um Array de Hashes para representar uma lista de usuários, \n",
    "        cada um com as chaves :nome, :idade e :cidade. Usando métodos do módulo Enumerable, \n",
    "        filtre este array para obter apenas os usuários com mais de 25 anos que moram em 'São Paulo'. \n",
    "        Por fim, a partir do resultado filtrado, crie um novo array onde cada usuário tem uma chave adicional :status com o valor `'verificado'.\n",
    "        \"\"\"\n",
    "    } \n",
    "]"
   ]
  },
  {
   "cell_type": "code",
   "execution_count": 6,
   "id": "d7ac0ae9",
   "metadata": {},
   "outputs": [
    {
     "name": "stdout",
     "output_type": "stream",
     "text": [
      "> Resposta:  ```ruby\n",
      "users = [\n",
      "  { nome: 'Luiz', idade: 30, cidade: 'São Paulo' },\n",
      "  { nome: 'Carlos', idade: 22, cidade: 'Rio de Janeiro' },\n",
      "  { nome: 'Maria', idade: 40, cidade: 'São Paulo' },\n",
      "  { nome: 'Pedro', idade: 35, cidade: 'Belo Horizonte' }\n",
      "]\n",
      "\n",
      "# Filtrar usuários com mais de 25 anos e em São Paulo\n",
      "filtered_users = users.select do |user|\n",
      "  user[:idade] > 25 && user[:cidade] == 'São Paulo'\n",
      "end\n",
      "\n",
      "# Adicionar a chave :status para todos os usuários filtrados\n",
      "updated_users = filtered_users.map do |user|\n",
      "  { :nome => user[:nome], :idade => user[:idade], :cidade => user[:cidade], :status => 'verificado' }\n",
      "end\n",
      "\n",
      "puts updated_users\n",
      "```\n"
     ]
    }
   ],
   "source": [
    "resp = ollama.chat(model=model, messages=messages)\n",
    "print(\"> Resposta: \", resp['message']['content'])"
   ]
  },
  {
   "cell_type": "code",
   "execution_count": null,
   "id": "b81d1722",
   "metadata": {},
   "outputs": [],
   "source": []
  }
 ],
 "metadata": {
  "kernelspec": {
   "display_name": ".venv",
   "language": "python",
   "name": "python3"
  },
  "language_info": {
   "codemirror_mode": {
    "name": "ipython",
    "version": 3
   },
   "file_extension": ".py",
   "mimetype": "text/x-python",
   "name": "python",
   "nbconvert_exporter": "python",
   "pygments_lexer": "ipython3",
   "version": "3.10.16"
  }
 },
 "nbformat": 4,
 "nbformat_minor": 5
}
